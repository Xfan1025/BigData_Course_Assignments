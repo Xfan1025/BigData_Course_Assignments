{
  "nbformat": 4,
  "nbformat_minor": 0,
  "metadata": {
    "colab": {
      "name": "701_to_students.ipynb",
      "version": "0.3.2",
      "views": {},
      "default_view": {},
      "provenance": [],
      "collapsed_sections": []
    },
    "kernelspec": {
      "display_name": "Python 2",
      "language": "python",
      "name": "python2"
    }
  },
  "cells": [
    {
      "metadata": {
        "id": "Ebk-YqgqEOw1",
        "colab_type": "text"
      },
      "cell_type": "markdown",
      "source": [
        "# Hadoop Streaming assignment 1: Words Rating"
      ]
    },
    {
      "metadata": {
        "id": "XDLjl7hGEOw2",
        "colab_type": "text"
      },
      "cell_type": "markdown",
      "source": [
        "The purpose of this task is to create your own WordCount program for Wikipedia dump processing and learn basic concepts of the MapReduce.\n",
        "\n",
        "In this task you have to find the 7th word by popularity and its quantity in the reverse order (most popular first) in Wikipedia data (`/data/wiki/en_articles_part`).\n",
        "\n",
        "There are several points for this task:\n",
        "\n",
        "1) As an output, you have to get the 7th word and its quantity separated by a tab character.\n",
        "\n",
        "2) You must use the second job to obtain a totally ordered result.\n",
        "\n",
        "3) Do not forget to redirect all trash and output to /dev/null.\n",
        "\n",
        "Here you can find the draft of the task main steps. You can use other methods for solution obtaining."
      ]
    },
    {
      "metadata": {
        "id": "lIUikVIDEOw2",
        "colab_type": "text"
      },
      "cell_type": "markdown",
      "source": [
        "## Step 1. Create mapper and reducer.\n",
        "\n",
        "<b>Hint:</b>  Demo task contains almost all the necessary pieces to complete this assignment. You may use the demo to implement the first MapReduce Job."
      ]
    },
    {
      "metadata": {
        "id": "A7T5mxDwEOw4",
        "colab_type": "code",
        "colab": {
          "autoexec": {
            "startup": false,
            "wait_interval": 0
          }
        }
      },
      "cell_type": "code",
      "source": [
        "%%writefile mapper1.py\n",
        "\n",
        "# Your code for mapper here."
      ],
      "execution_count": 0,
      "outputs": []
    },
    {
      "metadata": {
        "id": "oE8KFKqpEOw5",
        "colab_type": "code",
        "colab": {
          "autoexec": {
            "startup": false,
            "wait_interval": 0
          }
        }
      },
      "cell_type": "code",
      "source": [
        "%%writefile reducer1.py\n",
        "\n",
        "# Your code for reducer here."
      ],
      "execution_count": 0,
      "outputs": []
    },
    {
      "metadata": {
        "id": "LJtc3_u0uXSz",
        "colab_type": "code",
        "colab": {
          "autoexec": {
            "startup": false,
            "wait_interval": 0
          }
        }
      },
      "cell_type": "code",
      "source": [
        "# You can use this cell for other experiments: for example, for combiner."
      ],
      "execution_count": 0,
      "outputs": []
    },
    {
      "metadata": {
        "id": "KYZpcwY9EOw6",
        "colab_type": "text"
      },
      "cell_type": "markdown",
      "source": [
        "## Step 2. Create sort job.\n",
        "\n",
        "<b>Hint:</b> You may use MapReduce comparator to solve this step. Make sure that the keys are sorted in ascending order."
      ]
    },
    {
      "metadata": {
        "id": "g-NMzQ79EOw7",
        "colab_type": "code",
        "colab": {
          "autoexec": {
            "startup": false,
            "wait_interval": 0
          }
        }
      },
      "cell_type": "code",
      "source": [
        "# Your code for sort job here. Don't forget to use magic writefile"
      ],
      "execution_count": 0,
      "outputs": []
    },
    {
      "metadata": {
        "id": "qs6SKs7wO4be",
        "colab_type": "code",
        "colab": {
          "autoexec": {
            "startup": false,
            "wait_interval": 0
          }
        }
      },
      "cell_type": "code",
      "source": [
        ""
      ],
      "execution_count": 0,
      "outputs": []
    },
    {
      "metadata": {
        "id": "4OBE81GZEOw8",
        "colab_type": "text"
      },
      "cell_type": "markdown",
      "source": [
        "## Step 3. Bash commands\n",
        "\n",
        "<b> Hint: </b> For printing the exact row you may use basic UNIX commands. For instance, sed/head/tail/... (if you know other commands, you can use them).\n",
        "\n",
        "To run both jobs, you must use two consecutive yarn-commands. Remember that the input for the second job is the ouput for the first job."
      ]
    },
    {
      "metadata": {
        "id": "1q9NczdIEOw9",
        "colab_type": "code",
        "colab": {
          "autoexec": {
            "startup": false,
            "wait_interval": 0
          }
        }
      },
      "cell_type": "code",
      "source": [
        "%%bash\n",
        "\n",
        "OUT_DIR=\"assignment1_\"$(date +\"%s%6N\")\n",
        "\n",
        "# Code for your first job\n",
        "# yarn jar /opt/cloudera/parcels/CDH/lib/hadoop-mapreduce/hadoop-streaming.jar ...\n",
        "\n",
        "# Code for your second job\n",
        "# yarn jar /opt/cloudera/parcels/CDH/lib/hadoop-mapreduce/hadoop-streaming.jar ...\n",
        "\n",
        "# Code for obtaining the results\n",
        "hdfs dfs -cat ${OUT_DIR}/part-00000 | sed -n '7p;8q'\n",
        "hdfs dfs -rm -r -skipTrash ${OUT_DIR}* > /dev/null"
      ],
      "execution_count": 0,
      "outputs": []
    }
  ]
}