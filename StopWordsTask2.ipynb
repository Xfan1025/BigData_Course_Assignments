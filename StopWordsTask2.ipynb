{
  "nbformat": 4,
  "nbformat_minor": 0,
  "metadata": {
    "colab": {
      "name": "702_to_students.ipynb",
      "version": "0.3.2",
      "views": {},
      "default_view": {},
      "provenance": [],
      "collapsed_sections": []
    },
    "kernelspec": {
      "display_name": "Python 2",
      "language": "python",
      "name": "python2"
    }
  },
  "cells": [
    {
      "metadata": {
        "id": "Xsd0oermS80K",
        "colab_type": "text"
      },
      "cell_type": "markdown",
      "source": [
        "# Hadoop Streaming assignment 2: Stop Words"
      ]
    },
    {
      "metadata": {
        "id": "V_0wfvKjS80L",
        "colab_type": "text"
      },
      "cell_type": "markdown",
      "source": [
        "The purpose of this task is to improve the previous \"Word rating\" program. You have to calculate how many stop words are there in the input dataset. Stop words list is in `/datasets/stop_words_en.txt` file. \n",
        "\n",
        "Use Hadoop counters to compute the number of stop words and total words in the dataset. The result is the percentage of stop words in the entire dataset (without percent symbol).\n",
        "\n",
        "There are several points for this task:\n",
        "\n",
        "1) As an output, you have to get the percentage of stop words in the entire dataset without percent symbol (correct answer on sample dataset is `41.603`).\n",
        "\n",
        "2) As you can see in the Hadoop Streaming userguide \"you will need to use `-files` option to tell the framework to pack your executable files as a part of a job submission.\"\n",
        "\n",
        "3) Do not forget to redirect junk output to `/dev/null`.\n",
        "\n",
        "4) You may modify mappers/reducers from \"Word rating\" task and parse its output to get the answer on \"Stop Words\" task.\n",
        "\n",
        "5) You may use mapper/reducer to get `\"Stop Words\"` and `\"Total Words\"` amounts and redirect them to sys.stderr. After that you may redirect the output of MapReduce to the parsed function. In this function you may find rows correspond to these amounts and compute the percentage.\n",
        "\n",
        "Here you can find the draft for the main steps of the task. You can use other methods to get the solution."
      ]
    },
    {
      "metadata": {
        "id": "EpO7whLNS80M",
        "colab_type": "text"
      },
      "cell_type": "markdown",
      "source": [
        "## Step 1. Create the mapper.\n",
        "\n",
        "<b>Hint:</b> Create the mapper, which calculates Total word and Stop word amounts. You may redirect this information to sys.stderr. This will make it possible to parse these data on the next steps.\n",
        "\n",
        "Example of the redirections:\n",
        "\n",
        "`print >> sys.stderr, \"reporter:counter:Wiki stats,Total words,%d\" % count`\n",
        "\n",
        "Remember about the Distributed cache. If we add option `-files mapper.py,reducer.py,/datasets/stop_words_en.txt`, then `mapper.py, reducer.py` and `stop_words_en.txt` file will be in the same directory on the datanodes. Hence, it is necessary to use a relative path `stop_words_en.txt` from the mapper to access this txt file."
      ]
    },
    {
      "metadata": {
        "id": "KU56zkC0S80M",
        "colab_type": "code",
        "colab": {
          "autoexec": {
            "startup": false,
            "wait_interval": 0
          }
        }
      },
      "cell_type": "code",
      "source": [
        "%%writefile mapper.py\n",
        "\n",
        "\n",
        "import sys\n",
        "import re\n",
        "\n",
        "\n",
        "reload(sys)\n",
        "sys.setdefaultencoding('utf-8')  # required to convert to unicode\n",
        "\n",
        "path = 'stop_words_en.txt'\n",
        "\n",
        "# Your code for reading stop words here\n",
        "\n",
        "\n",
        "for line in sys.stdin:\n",
        "    try:\n",
        "        article_id, text = unicode(line.strip()).split('\\t', 1)\n",
        "    except ValueError as e:\n",
        "        continue\n",
        "\n",
        "    words = re.split(\"\\W*\\s+\\W*\", text, flags=re.UNICODE)\n",
        "\n",
        "    # Your code for mapper here."
      ],
      "execution_count": 0,
      "outputs": []
    },
    {
      "metadata": {
        "id": "-3EM-tBES80O",
        "colab_type": "text"
      },
      "cell_type": "markdown",
      "source": [
        "## Step 2. Create the reducer.\n",
        "\n",
        "Create the reducer, which will accumulate the information after the mapper step. You may implement the combiner if you want. It can be useful from optimizing and speed up your computations (see the lectures from the Week 2 for more details)."
      ]
    },
    {
      "metadata": {
        "id": "yslvpwpfS80P",
        "colab_type": "code",
        "colab": {
          "autoexec": {
            "startup": false,
            "wait_interval": 0
          }
        }
      },
      "cell_type": "code",
      "source": [
        "%%writefile reducer.py\n",
        "\n",
        "# Your code for reducer here."
      ],
      "execution_count": 0,
      "outputs": []
    },
    {
      "metadata": {
        "id": "MZQKrDecS80Q",
        "colab_type": "text"
      },
      "cell_type": "markdown",
      "source": [
        "## Step 3. Create the parsed function.\n",
        "\n",
        "<b>Hint:</b> Create the function, which will parse MapReduce sys.stderr for Total word and Stop word amounts.\n",
        "\n",
        "The `./counter_process.py` script should do the following:\n",
        "\n",
        "- parse hadoop logs from Stderr,\n",
        "\n",
        "- retrieve values of 2 user-defined counters,\n",
        "\n",
        "- compute percentage and output it into the stdout."
      ]
    },
    {
      "metadata": {
        "id": "XptufhbMS80R",
        "colab_type": "code",
        "colab": {
          "autoexec": {
            "startup": false,
            "wait_interval": 0
          }
        }
      },
      "cell_type": "code",
      "source": [
        "%%writefile counter_process.py\n",
        "\n",
        "#! /usr/bin/env python\n",
        "\n",
        "import sys\n",
        "\n",
        "# Your functions may be here.\n",
        "\n",
        "\n",
        "\n",
        "if __name__ == '__main__':\n",
        "    # Your code here."
      ],
      "execution_count": 0,
      "outputs": []
    },
    {
      "metadata": {
        "id": "O_7XrxbKS80S",
        "colab_type": "text"
      },
      "cell_type": "markdown",
      "source": [
        "## Step 4. Bash commands\n",
        "\n",
        "<b> Hints: </b> \n",
        "\n",
        "1) If you want to redirect standard output to txt file you may use the following argument in yarn jar:\n",
        "\n",
        "```\n",
        "yarn ... \\\n",
        "  ... \\\n",
        "  -output ${OUT_DIR} > /dev/null 2> $LOGS\n",
        "```\n",
        "\n",
        "2) For printing the percentage of stop words in the entire dataset you may parse the MapReduce output. Parsed script may be written in Python code. \n",
        "\n",
        "To get the result you may use the UNIX pipe operator `|`. The output of the first command acts as an input to the second command (see lecture file-content-exploration-2 for more details).\n",
        "\n",
        "With this operator you may use command `cat` to redirect the output of MapReduce to ./counter_process.py with arguments, which correspond to the `\"Stop words\"` and `\"Total words\"` counters. Example is the following:\n",
        "\n",
        "`cat $LOGS | python ./counter_process.py \"Stop words\" \"Total words\"`\n",
        "\n",
        "Now something about Hadoop counters naming. \n",
        " - Built-in Hadoop counters usually have UPPER_CASE names. To make the grading system possible to distinguish your custom counters and system ones please use the following pattern for their naming: `[Aa]aaa...` (all except the first letters should be in lowercase);\n",
        " - Another points is how Hadoop sorts the counters. It sorts them lexicographically. Grading system reads your first counter as Stop words counter and the second as Total words. Please name you counters in such way that Hadoop set the Stop words counter before the Total words. \n",
        " \n",
        "E.g. \"Stop words\" and \"Total words\" names are Ok because they correspond both requirements.\n",
        "\n",
        "3) In Python code sys.argv is a list, which contains the command-line arguments passed to the script. The name of the script is in `sys.argv[0]`. Other arguments begin from `sys.argv[1]`.\n",
        "\n",
        "Hence, if you have two arguments, which you send from the Bash to your python script, you may use arguments in your script with the following command:\n",
        "\n",
        "`function(sys.argv[1], sys.argv[2])`\n",
        "\n",
        "4) Do not forget about printing your MapReduce output in the last cell. You may use the next command:\n",
        "\n",
        "`cat $LOGS >&2`"
      ]
    },
    {
      "metadata": {
        "id": "bG3omEqzS80S",
        "colab_type": "code",
        "colab": {
          "autoexec": {
            "startup": false,
            "wait_interval": 0
          }
        }
      },
      "cell_type": "code",
      "source": [
        "%%bash\n",
        "\n",
        "OUT_DIR=\"coursera_mr_task2\"$(date +\"%s%6N\")\n",
        "NUM_REDUCERS=8\n",
        "LOGS=\"stderr_logs.txt\"\n",
        "\n",
        "# Stub code for your job\n",
        "\n",
        "# yarn jar /opt/cloudera/parcels/CDH/lib/hadoop-mapreduce/hadoop-streaming.jar ...\n",
        "# ... \\\n",
        "#    -output ${OUT_DIR} > /dev/null 2> $LOGS\n",
        "    \n",
        "cat $LOGS | python ./counter_process.py \"Stop words\" \"Total words\"\n",
        "cat $LOGS >&2\n",
        "\n",
        "hdfs dfs -rm -r -skipTrash ${OUT_DIR} > /dev/null\n"
      ],
      "execution_count": 0,
      "outputs": []
    }
  ]
}